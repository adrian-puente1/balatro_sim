{
 "cells": [
  {
   "cell_type": "code",
   "execution_count": 2,
   "metadata": {},
   "outputs": [],
   "source": [
    "import math\n",
    "import random\n",
    "from collections import defaultdict\n",
    "import deuces\n",
    "import itertools"
   ]
  },
  {
   "cell_type": "code",
   "execution_count": 204,
   "metadata": {},
   "outputs": [],
   "source": [
    "import deuces.lookup\n",
    "\n",
    "\n",
    "class Card:\n",
    "    def __init__(self, rank:str, suit:str, value:int):\n",
    "        self.rank = rank\n",
    "        self.suit = suit\n",
    "        self.value = value\n",
    "    \n",
    "    def show(self):\n",
    "        print(f\"{self.rank} of {self.suit}: {self.value} chips\")\n",
    "    \n",
    "    @staticmethod\n",
    "    def as_str(card):\n",
    "        return card.rank+card.suit\n",
    "    \n",
    "    @staticmethod\n",
    "    def as_str_list(card_list):\n",
    "        return [card.rank+card.suit for card in card_list]\n",
    "    \n",
    "    @staticmethod\n",
    "    def convert_deuces_ints_to_strs(card_list):\n",
    "        return [deuces.Card.int_to_str(card) for card in card_list]\n",
    "\n",
    "    @staticmethod\n",
    "    def convert_card_strs_to_deuces(card_list):\n",
    "        return [deuces.Card.new(card.as_str(card)) for card in card_list]\n",
    "\n",
    "class Blind_Manager:\n",
    "    ante_vals = [300, 800, 2000, 5000, 11000, 20000, 35000, 50000]\n",
    "    ante_endless_vals = [1.1e+5, 5.6e+5, 7.2e+6, 3e+8, 4.7e+10, 2.9e+13, 7.7e+16, 8.6e+20]\n",
    "    ante_vals += ante_endless_vals\n",
    "    blind_mult = [1, 1.5, 2]\n",
    "    blind_values = [int(round[0]*round[1]) for round in list(itertools.product(ante_vals,blind_mult))]\n",
    "\n",
    "    def __init__(self):\n",
    "        pass\n",
    "    pass\n",
    "\n",
    "class Deck_Manager:\n",
    "    evaluator = deuces.Evaluator()\n",
    "    suits = ['d', 'h', 'c', 's']\n",
    "    rank_values = {\n",
    "        'A': 11,\n",
    "        'K': 10,\n",
    "        'Q': 10,\n",
    "        'J': 10,\n",
    "        'T': 10,\n",
    "        '9': 9,\n",
    "        '8': 8,\n",
    "        '7': 7,\n",
    "        '6': 6,\n",
    "        '5': 5,\n",
    "        '4': 4,\n",
    "        '3': 3,\n",
    "        '2': 2\n",
    "    }\n",
    "\n",
    "    def __init__(self):\n",
    "        self.deck = []\n",
    "        for suit in self.suits:\n",
    "            for rank, value, in self.rank_values.items():\n",
    "                self.deck.append(Card(rank, suit, value))\n",
    "        self.shuffle_deck()\n",
    "        self.first_hand_dealt = False\n",
    "\n",
    "    def show_deck(self):\n",
    "        if len(self.deck) == 0: print('No cards in deck!')\n",
    "        else: \n",
    "            for card in self.deck:\n",
    "                card.show_card()\n",
    "    \n",
    "    def shuffle_deck(self):\n",
    "        random.shuffle(self.deck)\n",
    "        self.deck_queue = (card for card in self.deck)\n",
    "        self.first_hand_dealt = False\n",
    "    \n",
    "    def draw_card(self):\n",
    "        try:\n",
    "            return next(self.deck_queue)\n",
    "        except StopIteration:\n",
    "            return None\n",
    "    \n",
    "    def draw_cards(self, n:int=8):\n",
    "        \"\"\"\n",
    "        Return list of Card objects until Card generator empty\n",
    "        \"\"\"\n",
    "        card_list = []\n",
    "        if self.first_hand_dealt == False: \n",
    "            cards_to_deal = 8\n",
    "            self.first_hand_dealt = True\n",
    "        else: \n",
    "            cards_to_deal = n\n",
    "        for i in range(cards_to_deal):\n",
    "            new_card = self.draw_card()\n",
    "            if new_card != None:\n",
    "                card_list.append(new_card)\n",
    "            else:\n",
    "                break\n",
    "        return card_list\n",
    "    \n",
    "    def draw_and_submit(self):\n",
    "        card_list = self.draw_cards()\n",
    "        # for card in card_list:\n",
    "            \n",
    "        pass\n",
    "    \n",
    "    def eight_card_eval(self, cards:list[int]):\n",
    "        # TODO check for high card, pair, 2 pair, 3 of a kind, 4 of a kind if len(cards)<5\n",
    "        if len(cards) >= 5:\n",
    "            minimum = deuces.lookup.LookupTable.MAX_HIGH_CARD # 7462\n",
    "            minimum_combo = []\n",
    "            all5cardcombos = itertools.combinations(cards, 5)\n",
    "            for combo in all5cardcombos:\n",
    "                score = self.evaluator._five(combo)\n",
    "                if score < minimum:\n",
    "                    minimum = score\n",
    "                    minimum_combo = Card.convert_deuces_ints_to_strs(combo)\n",
    "            return [minimum, minimum_combo]\n",
    "        else:\n",
    "            raise Exception(ValueError)\n",
    "    \n",
    "    def get_best_hand(self, cards):\n",
    "        best_hand_type_int, best_cards = self.eight_card_eval(cards)\n",
    "        best_hand_type = self.evaluator.class_to_string(self.evaluator.get_rank_class(best_hand_type_int))\n",
    "        # TODO if hand_type == 5 card hand type, return as is; else remove/keep remaining cards\n",
    "        if best_hand_type in ['Straight Flush', 'Full House', 'Flush', 'Straight']:\n",
    "            return [best_hand_type, best_cards]\n",
    "        else:\n",
    "            print('not 5 card hand')\n",
    "            return [best_hand_type, best_cards]\n"
   ]
  },
  {
   "cell_type": "code",
   "execution_count": 253,
   "metadata": {},
   "outputs": [],
   "source": [
    "deck_m = Deck_Manager()\n",
    "eval_m = deuces.Evaluator()"
   ]
  },
  {
   "cell_type": "code",
   "execution_count": 267,
   "metadata": {},
   "outputs": [
    {
     "data": {
      "text/plain": [
       "[<__main__.Card at 0x231e5b691d0>,\n",
       " <__main__.Card at 0x231e570cd50>,\n",
       " <__main__.Card at 0x231e5b6b6d0>,\n",
       " <__main__.Card at 0x231e5b6a690>]"
      ]
     },
     "execution_count": 267,
     "metadata": {},
     "output_type": "execute_result"
    }
   ],
   "source": [
    "test_cards = deck_m.draw_cards(5)\n",
    "test_cards\n"
   ]
  },
  {
   "cell_type": "code",
   "execution_count": 268,
   "metadata": {},
   "outputs": [
    {
     "name": "stdout",
     "output_type": "stream",
     "text": [
      "['7c', '5s', '2d', '4h']\n"
     ]
    }
   ],
   "source": [
    "print(Card.as_str_list(test_cards))"
   ]
  },
  {
   "cell_type": "code",
   "execution_count": 266,
   "metadata": {},
   "outputs": [
    {
     "name": "stdout",
     "output_type": "stream",
     "text": [
      "Flush ['2h', 'Qh', '7h', '6h', 'Jh']\n"
     ]
    }
   ],
   "source": [
    "test_cards_str = Card.convert_card_strs_to_deuces(test_cards)\n",
    "test_str, test_card_list2 = deck_m.get_best_hand(test_cards_str)\n",
    "print(test_str, test_card_list2)"
   ]
  },
  {
   "cell_type": "code",
   "execution_count": 36,
   "metadata": {},
   "outputs": [
    {
     "data": {
      "text/plain": [
       "[300,\n",
       " 450,\n",
       " 600,\n",
       " 800,\n",
       " 1200,\n",
       " 1600,\n",
       " 2000,\n",
       " 3000,\n",
       " 4000,\n",
       " 5000,\n",
       " 7500,\n",
       " 10000,\n",
       " 11000,\n",
       " 16500,\n",
       " 22000,\n",
       " 20000,\n",
       " 30000,\n",
       " 40000,\n",
       " 35000,\n",
       " 52500,\n",
       " 70000,\n",
       " 50000,\n",
       " 75000,\n",
       " 100000,\n",
       " 110000,\n",
       " 165000,\n",
       " 220000,\n",
       " 560000,\n",
       " 840000,\n",
       " 1120000,\n",
       " 7200000,\n",
       " 10800000,\n",
       " 14400000,\n",
       " 300000000,\n",
       " 450000000,\n",
       " 600000000,\n",
       " 47000000000,\n",
       " 70500000000,\n",
       " 94000000000,\n",
       " 29000000000000,\n",
       " 43500000000000,\n",
       " 58000000000000,\n",
       " 77000000000000000,\n",
       " 115500000000000000,\n",
       " 154000000000000000,\n",
       " 860000000000000000000,\n",
       " 1290000000000000000000,\n",
       " 1720000000000000000000,\n",
       " 110000,\n",
       " 165000,\n",
       " 220000,\n",
       " 560000,\n",
       " 840000,\n",
       " 1120000,\n",
       " 7200000,\n",
       " 10800000,\n",
       " 14400000,\n",
       " 300000000,\n",
       " 450000000,\n",
       " 600000000,\n",
       " 47000000000,\n",
       " 70500000000,\n",
       " 94000000000,\n",
       " 29000000000000,\n",
       " 43500000000000,\n",
       " 58000000000000,\n",
       " 77000000000000000,\n",
       " 115500000000000000,\n",
       " 154000000000000000,\n",
       " 860000000000000000000,\n",
       " 1290000000000000000000,\n",
       " 1720000000000000000000]"
      ]
     },
     "execution_count": 36,
     "metadata": {},
     "output_type": "execute_result"
    }
   ],
   "source": [
    "test1 = [300, 800, 2000, 5000, 11000, 20000, 35000, 50000, 1.1e+5, 5.6e+5, 7.2e+6, 3e+8, 4.7e+10, 2.9e+13, 7.7e+16, 8.6e+20]\n",
    "test1 += [1.1e+5, 5.6e+5, 7.2e+6, 3e+8, 4.7e+10, 2.9e+13, 7.7e+16, 8.6e+20]\n",
    "test3 = [1, 1.5, 2]\n",
    "\n",
    "test_list = list(itertools.product(test1,test3))\n",
    "[int(i[0]*i[1]) for i in test_list]"
   ]
  }
 ],
 "metadata": {
  "kernelspec": {
   "display_name": "venv",
   "language": "python",
   "name": "python3"
  },
  "language_info": {
   "codemirror_mode": {
    "name": "ipython",
    "version": 3
   },
   "file_extension": ".py",
   "mimetype": "text/x-python",
   "name": "python",
   "nbconvert_exporter": "python",
   "pygments_lexer": "ipython3",
   "version": "3.11.3"
  }
 },
 "nbformat": 4,
 "nbformat_minor": 2
}

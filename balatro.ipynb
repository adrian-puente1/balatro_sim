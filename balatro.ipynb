{
 "cells": [
  {
   "cell_type": "code",
   "execution_count": 1,
   "metadata": {},
   "outputs": [],
   "source": [
    "from balatro import Card, Blind_Manager, Deck_Manager"
   ]
  },
  {
   "cell_type": "code",
   "execution_count": 2,
   "metadata": {},
   "outputs": [],
   "source": [
    "deck_m = Deck_Manager()\n",
    "blind_m = Blind_Manager()"
   ]
  },
  {
   "cell_type": "code",
   "execution_count": 12,
   "metadata": {},
   "outputs": [
    {
     "name": "stdout",
     "output_type": "stream",
     "text": [
      "['8c', '9s', '2s', 'Ah', '7s', '2c', 'Ts', 'Jh']\n",
      "['Straight', ['8c', '9s', '7s', 'Ts', 'Jh']]\n"
     ]
    }
   ],
   "source": [
    "test_cards = deck_m.draw_cards(8)\n",
    "test_cards_str = test_cards\n",
    "print(test_cards_str)\n",
    "test_str = deck_m.get_best_hand(test_cards_str)\n",
    "print(test_str)"
   ]
  },
  {
   "cell_type": "code",
   "execution_count": 4,
   "metadata": {},
   "outputs": [
    {
     "name": "stdout",
     "output_type": "stream",
     "text": [
      "['Ts', '2h', '6c', 'Qd', 'As', '3c'] - previous hand\n",
      "['Ts', '2h', '6c', 'Qd', 'As', '3c', '8d', '2c'] - current hand\n",
      "Pair: ['2h', '2c']\n",
      "All Cards: ['Ts', '2h', '6c', 'Qd', 'As', '3c', '8d', '2c']\n",
      "['Ts', '6c', 'Qd', 'As', '3c', '8d'] - cards left over\n",
      "28 from [14, 2]\n"
     ]
    },
    {
     "data": {
      "text/plain": [
       "28"
      ]
     },
     "execution_count": 4,
     "metadata": {},
     "output_type": "execute_result"
    }
   ],
   "source": [
    "deck_m.draw_cards_and_get_best_hand()"
   ]
  },
  {
   "cell_type": "code",
   "execution_count": 48,
   "metadata": {},
   "outputs": [],
   "source": [
    "deck_m.shuffle_deck()"
   ]
  }
 ],
 "metadata": {
  "kernelspec": {
   "display_name": "venv",
   "language": "python",
   "name": "python3"
  },
  "language_info": {
   "codemirror_mode": {
    "name": "ipython",
    "version": 3
   },
   "file_extension": ".py",
   "mimetype": "text/x-python",
   "name": "python",
   "nbconvert_exporter": "python",
   "pygments_lexer": "ipython3",
   "version": "3.11.3"
  }
 },
 "nbformat": 4,
 "nbformat_minor": 2
}

{
 "cells": [
  {
   "cell_type": "code",
   "execution_count": 1,
   "metadata": {},
   "outputs": [],
   "source": [
    "%load_ext autoreload\n",
    "%autoreload 2\n",
    "from balatro import Card, Run_Manager, Deck_Manager\n",
    "import pandas as pd"
   ]
  },
  {
   "cell_type": "code",
   "execution_count": 27,
   "metadata": {},
   "outputs": [],
   "source": [
    "deck_m = Deck_Manager()\n",
    "blind_m = Run_Manager()"
   ]
  },
  {
   "cell_type": "code",
   "execution_count": 41,
   "metadata": {},
   "outputs": [
    {
     "name": "stdout",
     "output_type": "stream",
     "text": [
      "--- Blind Goal:  300  ---\n",
      " *** Round  1 *** \n",
      "{'score': 96, 'hand_type': 'Two Pair', 'cards_played': 4, 'discards_used': 0}\n",
      "Current Round Score: 96\n",
      "{'score': 112, 'hand_type': 'Two Pair', 'cards_played': 4, 'discards_used': 1}\n",
      "Current Round Score: 208\n",
      "{'score': 108, 'hand_type': 'Two Pair', 'cards_played': 4, 'discards_used': 0}\n",
      "Current Round Score: 316\n",
      "**** You've reached the Blind Goal ****\n",
      "\n",
      "Total Run Score: 316.0 \n",
      "\n",
      "--- Blind Goal:  450  ---\n",
      " *** Round  2 *** \n",
      "{'score': 104, 'hand_type': 'Two Pair', 'cards_played': 4, 'discards_used': 1}\n",
      "Current Round Score: 104\n",
      "{'score': 92, 'hand_type': 'Two Pair', 'cards_played': 4, 'discards_used': 0}\n",
      "Current Round Score: 196\n",
      "{'score': 60, 'hand_type': 'Pair', 'cards_played': 2, 'discards_used': 2}\n",
      "Current Round Score: 256\n",
      "{'score': 60, 'hand_type': 'Pair', 'cards_played': 2, 'discards_used': 0}\n",
      "Current Round Score: 316\n",
      "**** You did not meet the Goal for the Blind ****\n",
      "Total Run Score: 316.0 \n",
      "\n"
     ]
    }
   ],
   "source": [
    "blind_m.blind_tracker(deck_m)"
   ]
  },
  {
   "cell_type": "code",
   "execution_count": 13,
   "metadata": {},
   "outputs": [
    {
     "data": {
      "text/plain": [
       "{'score': 124, 'hand_type': 'Two Pair', 'cards_played': 4, 'discards_used': 0}"
      ]
     },
     "execution_count": 13,
     "metadata": {},
     "output_type": "execute_result"
    }
   ],
   "source": [
    "deck_m.draw_cards_and_get_best_hand()"
   ]
  },
  {
   "cell_type": "code",
   "execution_count": 14,
   "metadata": {},
   "outputs": [],
   "source": [
    "deck_m.shuffle_deck()"
   ]
  }
 ],
 "metadata": {
  "kernelspec": {
   "display_name": "venv",
   "language": "python",
   "name": "python3"
  },
  "language_info": {
   "codemirror_mode": {
    "name": "ipython",
    "version": 3
   },
   "file_extension": ".py",
   "mimetype": "text/x-python",
   "name": "python",
   "nbconvert_exporter": "python",
   "pygments_lexer": "ipython3",
   "version": "3.13.3"
  }
 },
 "nbformat": 4,
 "nbformat_minor": 2
}

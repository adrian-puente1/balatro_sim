{
 "cells": [
  {
   "cell_type": "code",
   "execution_count": 1,
   "metadata": {},
   "outputs": [],
   "source": [
    "import math\n",
    "import random\n",
    "from collections import defaultdict\n",
    "import deuces\n",
    "import itertools"
   ]
  },
  {
   "cell_type": "code",
   "execution_count": 89,
   "metadata": {},
   "outputs": [],
   "source": [
    "class Card:\n",
    "    def __init__(self, rank:str, suit:str, value:int):\n",
    "        self.rank = rank\n",
    "        self.suit = suit\n",
    "        self.value = value\n",
    "        \n",
    "    @staticmethod\n",
    "    def as_str(card):\n",
    "        return card.rank+card.suit\n",
    "    \n",
    "    @staticmethod\n",
    "    def as_str_list(card_list):\n",
    "        return [card.rank+card.suit for card in card_list]\n",
    "    \n",
    "    @staticmethod\n",
    "    def convert_deuces_ints_to_strs(card_list):\n",
    "        return [deuces.Card.int_to_str(card) for card in card_list]\n",
    "\n",
    "    @staticmethod\n",
    "    def convert_card_strs_to_deuces(card_list):\n",
    "        return [deuces.Card.new(card.as_str(card)) for card in card_list]\n",
    "    \n",
    "    @staticmethod\n",
    "    def get_ranks(card_list):\n",
    "        rank_dict = defaultdict(int)\n",
    "        rank_class = ''\n",
    "        relevant_cards = []\n",
    "        for card in card_list: rank_dict[card.as_str(card)[0]] += 1\n",
    "        four_of_a_kind_idx = [key for key, val in rank_dict.items() if val == 4]\n",
    "        three_of_a_kind_idx = [key for key, val in rank_dict.items() if val == 3]\n",
    "        pairs_idx = [key for key, val in rank_dict.items() if val == 2]\n",
    "        print('4 of a kind: ', four_of_a_kind_idx)\n",
    "        print('3 of a kind: ', three_of_a_kind_idx)\n",
    "        print('Pairs: ', pairs_idx)\n",
    "        if len(four_of_a_kind_idx) == 1: rank_class = 'Four of a Kind'\n",
    "        elif len(three_of_a_kind_idx) == 1: rank_class = 'Three of a Kind'\n",
    "        elif len(pairs_idx) == 2: rank_class = 'Two Pair'\n",
    "        elif len(pairs_idx) == 1: rank_class = 'Pair'\n",
    "        else: rank_class = 'High Card'\n",
    "        print(rank_class)\n",
    "        # get relevant cards\n",
    "        if rank_class == 'Four of a Kind':\n",
    "            relevant_cards = [card for card in card_list if Card.as_str(card)[0] == four_of_a_kind_idx[0]]\n",
    "        elif rank_class == 'Three of a Kind':\n",
    "            relevant_cards = [card for card in card_list if Card.as_str(card)[0] == three_of_a_kind_idx[0]]\n",
    "        elif rank_class == 'Two Pair':\n",
    "            relevant_cards = [card for card in card_list if Card.as_str(card)[0] in pairs_idx]\n",
    "        elif rank_class == 'Pair':\n",
    "            relevant_cards = [card for card in card_list if Card.as_str(card)[0] in pairs_idx]\n",
    "        else:\n",
    "            print('high card time!') \n",
    "            pass # return highest card\n",
    "        print(Card.as_str_list(relevant_cards))\n",
    "        return rank_dict\n",
    "    \n",
    "\n",
    "\n",
    "class Blind_Manager:\n",
    "    ante_vals = [300, 800, 2000, 5000, 11000, 20000, 35000, 50000]\n",
    "    ante_endless_vals = [1.1e+5, 5.6e+5, 7.2e+6, 3e+8, 4.7e+10, 2.9e+13, 7.7e+16, 8.6e+20]\n",
    "    ante_vals += ante_endless_vals\n",
    "    blind_mult = [1, 1.5, 2]\n",
    "    blind_values = [int(round[0]*round[1]) for round in list(itertools.product(ante_vals,blind_mult))]\n",
    "\n",
    "    def __init__(self):\n",
    "        pass\n",
    "    pass\n",
    "\n",
    "class Deck_Manager:\n",
    "    evaluator = deuces.Evaluator()\n",
    "    suits = ['d', 'h', 'c', 's']\n",
    "    rank_values = {\n",
    "        'A': 11,\n",
    "        'K': 10,\n",
    "        'Q': 10,\n",
    "        'J': 10,\n",
    "        'T': 10,\n",
    "        '9': 9,\n",
    "        '8': 8,\n",
    "        '7': 7,\n",
    "        '6': 6,\n",
    "        '5': 5,\n",
    "        '4': 4,\n",
    "        '3': 3,\n",
    "        '2': 2\n",
    "    }\n",
    "\n",
    "    def __init__(self):\n",
    "        self.deck = []\n",
    "        for suit in self.suits:\n",
    "            for rank, value, in self.rank_values.items():\n",
    "                self.deck.append(Card(rank, suit, value))\n",
    "        self.shuffle_deck()\n",
    "        self.first_hand_dealt = False\n",
    "\n",
    "    def show_deck(self):\n",
    "        if len(self.deck) == 0: print('No cards in deck!')\n",
    "        else: \n",
    "            for card in self.deck:\n",
    "                card.show_card()\n",
    "    \n",
    "    def shuffle_deck(self):\n",
    "        random.shuffle(self.deck)\n",
    "        self.deck_queue = (card for card in self.deck)\n",
    "        self.first_hand_dealt = False\n",
    "    \n",
    "    def draw_card(self):\n",
    "        try:\n",
    "            return next(self.deck_queue)\n",
    "        except StopIteration:\n",
    "            return None\n",
    "    \n",
    "    def draw_cards(self, n:int=8):\n",
    "        \"\"\"\n",
    "        Return list of Card objects until Card generator empty\n",
    "        \"\"\"\n",
    "        card_list = []\n",
    "        if self.first_hand_dealt == False: \n",
    "            cards_to_deal = 8\n",
    "            self.first_hand_dealt = True\n",
    "        else: \n",
    "            cards_to_deal = n\n",
    "        for i in range(cards_to_deal):\n",
    "            new_card = self.draw_card()\n",
    "            if new_card != None:\n",
    "                card_list.append(new_card)\n",
    "            else:\n",
    "                break\n",
    "        return card_list\n",
    "    \n",
    "    def eight_card_eval(self, cards:list[int]):\n",
    "        # TODO check for high card, pair, 2 pair, 3 of a kind, 4 of a kind if len(cards)<5\n",
    "        if len(cards) >= 5:\n",
    "            minimum = deuces.lookup.LookupTable.MAX_HIGH_CARD # 7462\n",
    "            minimum_combo = []\n",
    "            all5cardcombos = itertools.combinations(cards, 5)\n",
    "            for combo in all5cardcombos:\n",
    "                score = self.evaluator._five(combo)\n",
    "                if score < minimum:\n",
    "                    minimum = score\n",
    "                    minimum_combo = Card.convert_deuces_ints_to_strs(combo)\n",
    "            return [minimum, minimum_combo]\n",
    "        else:\n",
    "            raise Exception(ValueError)\n",
    "    \n",
    "    def get_best_hand(self, cards):\n",
    "        # if len(cards) >= 5:\n",
    "        best_hand_type_int, best_cards = self.eight_card_eval(cards)\n",
    "        # else: # check smaller hand type\n",
    "        best_hand_type = self.evaluator.class_to_string(self.evaluator.get_rank_class(best_hand_type_int))\n",
    "        # TODO if hand_type == 5 card hand type, return as is; else remove/keep remaining cards\n",
    "        if best_hand_type in ['Straight Flush', 'Full House', 'Flush', 'Straight']:\n",
    "            return [best_hand_type, best_cards]\n",
    "        else:\n",
    "            print('not 5 card hand')\n",
    "\n",
    "            return [best_hand_type, best_cards]\n"
   ]
  },
  {
   "cell_type": "code",
   "execution_count": 90,
   "metadata": {},
   "outputs": [],
   "source": [
    "deck_m = Deck_Manager()\n",
    "eval_m = deuces.Evaluator()"
   ]
  },
  {
   "cell_type": "code",
   "execution_count": 103,
   "metadata": {},
   "outputs": [
    {
     "data": {
      "text/plain": [
       "[<__main__.Card at 0x27499d22a90>,\n",
       " <__main__.Card at 0x27499d23e90>,\n",
       " <__main__.Card at 0x27499ee4790>,\n",
       " <__main__.Card at 0x27499d23710>,\n",
       " <__main__.Card at 0x27499d23410>]"
      ]
     },
     "execution_count": 103,
     "metadata": {},
     "output_type": "execute_result"
    }
   ],
   "source": [
    "test_cards = deck_m.draw_cards(5)\n",
    "test_cards\n"
   ]
  },
  {
   "cell_type": "code",
   "execution_count": 106,
   "metadata": {},
   "outputs": [
    {
     "name": "stdout",
     "output_type": "stream",
     "text": [
      "['6d', 'Ah', 'Ad', '2s', '6h']\n"
     ]
    }
   ],
   "source": [
    "print(Card.as_str_list(test_cards))"
   ]
  },
  {
   "cell_type": "code",
   "execution_count": 105,
   "metadata": {},
   "outputs": [
    {
     "name": "stdout",
     "output_type": "stream",
     "text": [
      "4 of a kind:  []\n",
      "3 of a kind:  []\n",
      "Pairs:  ['6', 'A']\n",
      "Two Pair\n",
      "['6d', 'Ah', 'Ad', '6h']\n",
      "defaultdict(<class 'int'>, {'6': 2, 'A': 2, '2': 1})\n"
     ]
    }
   ],
   "source": [
    "rank_list = Card.get_ranks(test_cards)\n",
    "print(rank_list)\n"
   ]
  },
  {
   "cell_type": "code",
   "execution_count": 104,
   "metadata": {},
   "outputs": [
    {
     "name": "stdout",
     "output_type": "stream",
     "text": [
      "not 5 card hand\n",
      "Two Pair ['6d', 'Ah', 'Ad', '2s', '6h']\n"
     ]
    }
   ],
   "source": [
    "test_cards_str = Card.convert_card_strs_to_deuces(test_cards)\n",
    "test_str, test_card_list2 = deck_m.get_best_hand(test_cards_str)\n",
    "print(test_str, test_card_list2)"
   ]
  }
 ],
 "metadata": {
  "kernelspec": {
   "display_name": "venv",
   "language": "python",
   "name": "python3"
  },
  "language_info": {
   "codemirror_mode": {
    "name": "ipython",
    "version": 3
   },
   "file_extension": ".py",
   "mimetype": "text/x-python",
   "name": "python",
   "nbconvert_exporter": "python",
   "pygments_lexer": "ipython3",
   "version": "3.11.3"
  }
 },
 "nbformat": 4,
 "nbformat_minor": 2
}
